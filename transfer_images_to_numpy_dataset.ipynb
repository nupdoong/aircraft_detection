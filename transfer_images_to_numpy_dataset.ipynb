{
 "cells": [
  {
   "cell_type": "code",
   "execution_count": 2,
   "metadata": {},
   "outputs": [],
   "source": [
    "import numpy as np\n",
    "from PIL import Image\n",
    "import os\n",
    "\n",
    "def one_hot(i):\n",
    "    a = np.zeros(2, 'uint8')\n",
    "    a[i] = 1\n",
    "    return a\n",
    "\n",
    "data_dir = './mel_spectrogram/'\n",
    "nb_classes = 2\n",
    "x = (64*64*3)+2\n",
    "\n",
    "result_arr = np.empty((10716, x))\n",
    "\n",
    "\n",
    "idx_start = 0\n",
    "\n",
    "for cls, sound_name in enumerate(os.listdir(data_dir)):\n",
    "    image_dir = data_dir + sound_name + '/'\n",
    "    file_list = os.listdir(image_dir)\n",
    "\n",
    "    for idx, f in enumerate(file_list):\n",
    "        im = Image.open(image_dir + f)\n",
    "        im2 = im.resize((64, 64))\n",
    "        pix = np.array(im2)\n",
    "        arr = pix.reshape(1, x-2)\n",
    "        result_arr[idx_start + idx] = np.append(arr, one_hot(cls))\n",
    "    idx_start += len(file_list)\n",
    "\n",
    "np.save('result3.npy', result_arr)"
   ]
  },
  {
   "cell_type": "code",
   "execution_count": null,
   "metadata": {
    "collapsed": true
   },
   "outputs": [],
   "source": []
  }
 ],
 "metadata": {
  "kernelspec": {
   "display_name": "Python 2",
   "language": "python",
   "name": "python2"
  },
  "language_info": {
   "codemirror_mode": {
    "name": "ipython",
    "version": 2
   },
   "file_extension": ".py",
   "mimetype": "text/x-python",
   "name": "python",
   "nbconvert_exporter": "python",
   "pygments_lexer": "ipython2",
   "version": "2.7.15"
  }
 },
 "nbformat": 4,
 "nbformat_minor": 2
}
