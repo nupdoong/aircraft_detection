{
 "cells": [
  {
   "cell_type": "code",
   "execution_count": 2,
   "metadata": {},
   "outputs": [],
   "source": [
    "import os\n",
    "\n",
    "arr = os.listdir('./aircraft_mel_spectrogram')\n",
    "\n",
    "for i in range(len(arr)):\n",
    "    os.rename('./aircraft_mel_spectrogram/'+str(i)+'.jpg', './aircraft_mel_spectrogram/a'+str(i)+'.jpg')"
   ]
  },
  {
   "cell_type": "code",
   "execution_count": 3,
   "metadata": {
    "collapsed": true
   },
   "outputs": [],
   "source": [
    "import os\n",
    "\n",
    "arr = os.listdir('./background_mel_spectrogram')\n",
    "\n",
    "for i in range(len(arr)):\n",
    "    os.rename('./background_mel_spectrogram/'+str(i)+'.jpg', './background_mel_spectrogram/b'+str(i)+'.jpg')"
   ]
  },
  {
   "cell_type": "code",
   "execution_count": null,
   "metadata": {
    "collapsed": true
   },
   "outputs": [],
   "source": []
  }
 ],
 "metadata": {
  "kernelspec": {
   "display_name": "Python 3",
   "language": "python",
   "name": "python3"
  },
  "language_info": {
   "codemirror_mode": {
    "name": "ipython",
    "version": 3
   },
   "file_extension": ".py",
   "mimetype": "text/x-python",
   "name": "python",
   "nbconvert_exporter": "python",
   "pygments_lexer": "ipython3",
   "version": "3.6.6"
  }
 },
 "nbformat": 4,
 "nbformat_minor": 2
}
